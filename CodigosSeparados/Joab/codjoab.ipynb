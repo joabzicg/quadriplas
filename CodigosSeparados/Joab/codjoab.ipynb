{
 "cells": [
  {
   "cell_type": "code",
   "execution_count": 60,
   "metadata": {},
   "outputs": [],
   "source": [
    "#DADOS\n",
    "import numpy as np\n",
    "import cmath\n",
    "\n",
    "#DISTÂNCIA DAS LINHAS DE TRANSMISSÃO EM KM\n",
    "dLT1_2_3 = 80\n",
    "dLT4_5 = 100\n",
    "dLT6 = 90\n",
    "\n",
    "#Frequência angular\n",
    "w = 2*np.pi*60 "
   ]
  },
  {
   "cell_type": "code",
   "execution_count": 61,
   "metadata": {},
   "outputs": [],
   "source": [
    "#paramêtros da LINHA 1 2 e 3 [R, L, C]:\n",
    "LT1_LT2_LT3 = [dLT1_2_3*0.172,dLT1_2_3*2.18e-3,dLT1_2_3*0.0136e-6]\n",
    "LT4_LT5 = [dLT4_5*0.172,dLT4_5*2.18e-3,dLT4_5*0.0136e-6]\n",
    "LT6 = [dLT6*0.172,dLT6*2.18e-3,dLT6*0.0136e-6]"
   ]
  },
  {
   "cell_type": "code",
   "execution_count": 62,
   "metadata": {},
   "outputs": [],
   "source": [
    "#MATRIZES LINHA DE TRANSMISSÃO\n",
    "\n",
    "def M_Linha(Linha):\n",
    "    #Admitância Y da linha (Y1=Y2)\n",
    "    Y = 1/(1/1j*w*(Linha[2]/2))\n",
    "\n",
    "    #Impedância Z da linha\n",
    "    Z = Linha[0]+(1j*w*Linha[1])\n",
    "    #Calculando matriz ABCD\n",
    "\n",
    "    A = 1+Y*Z\n",
    "    B = Z\n",
    "    C = (2*Y+Y*Y*Z)\n",
    "    D = 1+Y*Z\n",
    "    \n",
    "    matrizLinha = np.array(\n",
    "        [\n",
    "            [A,B],\n",
    "            [C,D]\n",
    "        ]\n",
    "    )\n",
    "    return matrizLinha\n"
   ]
  },
  {
   "cell_type": "code",
   "execution_count": 63,
   "metadata": {},
   "outputs": [],
   "source": [
    "#DADOS\n",
    "import numpy as np\n",
    "import cmath\n",
    "\n",
    "#DISTÂNCIA DAS LINHAS DE TRANSMISSÃO EM KM\n",
    "dLT1_2_3 = 80\n",
    "dLT4_5 = 100\n",
    "dLT6 = 90\n",
    "\n",
    "#Frequência angular da linha\n",
    "w = 2*np.pi*60 "
   ]
  },
  {
   "cell_type": "code",
   "execution_count": 64,
   "metadata": {},
   "outputs": [],
   "source": [
    "#paramêtros da LINHA 1 2 3, 4, 5 e 6 [R, L, C]:\n",
    "LT1_LT2_LT3 = [dLT1_2_3*0.172,dLT1_2_3*2.18e-3,dLT1_2_3*0.0136e-6]\n",
    "LT4_LT5 = [dLT4_5*0.172,dLT4_5*2.18e-3,dLT4_5*0.0136e-6]\n",
    "LT6 = [dLT6*0.172,dLT6*2.18e-3,dLT6*0.0136e-6]"
   ]
  },
  {
   "cell_type": "code",
   "execution_count": 65,
   "metadata": {},
   "outputs": [],
   "source": [
    "#MATRIZES LINHA DE TRANSMISSÃO\n",
    "\n",
    "#LT1,LT2, LT3 \n",
    "def M_Linha(Linha):\n",
    "    #Admitância Y da linha (Y1=Y2)\n",
    "    Y = 1/(1/(1j*w*(Linha[2]/2)))\n",
    "    #Impedância Z da linha\n",
    "    Z = Linha[0]+(1j*w*Linha[1])\n",
    "    #Calculando matriz ABCD\n",
    "\n",
    "    A = 1+Y*Z\n",
    "    B = Z\n",
    "    C = (2*Y+Y*Y*Z)\n",
    "    D = 1+Y*Z\n",
    "    \n",
    "    matrizLinha = np.array(\n",
    "        [\n",
    "            [A,B],\n",
    "            [C,D]\n",
    "        ]\n",
    "    )\n",
    "    return matrizLinha\n"
   ]
  },
  {
   "cell_type": "code",
   "execution_count": 66,
   "metadata": {},
   "outputs": [
    {
     "name": "stdout",
     "output_type": "stream",
     "text": [
      "\n",
      " --------MATRIZ ABCD LT1, LT2 e LT3:----------\n",
      "[[ 9.86516345e-01+2.82194440e-03j  1.37600000e+01+6.57472511e+01j]\n",
      " [-5.78733298e-07+4.07401066e-04j  9.86516345e-01+2.82194440e-03j]]\n",
      "\n",
      " --------MATRIZ ABCD LT4 e LT5:----------\n",
      "[[ 9.78931790e-01+4.40928812e-03j  1.72000000e+01+8.21840638e+01j]\n",
      " [-1.13033847e-06+5.07307002e-04j  9.78931790e-01+4.40928812e-03j]]\n",
      "\n",
      " --------MATRIZ ABCD LT6:----------\n",
      "[[ 9.82934750e-01+3.57152338e-03j  1.54800000e+01+7.39656574e+01j]\n",
      " [-8.24016747e-07+4.57499859e-04j  9.82934750e-01+3.57152338e-03j]]\n"
     ]
    }
   ],
   "source": [
    "LT1 = M_Linha(LT1_LT2_LT3)\n",
    "LT2 = M_Linha(LT1_LT2_LT3)\n",
    "LT3 = M_Linha(LT1_LT2_LT3)\n",
    "LT4 = M_Linha(LT4_LT5)\n",
    "LT5 = M_Linha(LT4_LT5)\n",
    "LT6 = M_Linha(LT6)\n",
    "\n",
    "print('\\n',\"--------MATRIZ ABCD LT1, LT2 e LT3:----------\")\n",
    "print(LT1)\n",
    "print('\\n',\"--------MATRIZ ABCD LT4 e LT5:----------\")\n",
    "print(LT4)\n",
    "print('\\n',\"--------MATRIZ ABCD LT6:----------\")\n",
    "print(LT6)\n"
   ]
  }
 ],
 "metadata": {
  "kernelspec": {
   "display_name": "Python 3",
   "language": "python",
   "name": "python3"
  },
  "language_info": {
   "codemirror_mode": {
    "name": "ipython",
    "version": 3
   },
   "file_extension": ".py",
   "mimetype": "text/x-python",
   "name": "python",
   "nbconvert_exporter": "python",
   "pygments_lexer": "ipython3",
   "version": "3.11.9"
  }
 },
 "nbformat": 4,
 "nbformat_minor": 2
}
