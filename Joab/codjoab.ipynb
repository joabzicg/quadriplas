{
 "cells": [
  {
   "cell_type": "code",
   "execution_count": 5,
   "metadata": {},
   "outputs": [],
   "source": [
    "#DADOS\n",
    "import numpy as np\n",
    "import cmath\n",
    "\n",
    "#DISTÂNCIA DAS LINHAS DE TRANSMISSÃO EM KM\n",
    "dLT1_2_3 = 80\n",
    "dLT4_5 = 100\n",
    "dLT6 = 90\n",
    "\n",
    "#Frequência angular\n",
    "w = 2*np.pi*60 "
   ]
  },
  {
   "cell_type": "code",
   "execution_count": 7,
   "metadata": {},
   "outputs": [],
   "source": [
    "#paramêtros da LINHA 1 2 e 3 [R, L, C]:\n",
    "LT1_LT2_LT3 = [dLT1_2_3*0.172,dLT1_2_3*2.18e-3,dLT1_2_3*0.0136e-6]\n",
    "LT4_LT5 = [dLT4_5*0.172,dLT4_5*2.18e-3,dLT4_5*0.0136e-6]\n",
    "LT6 = [dLT6*0.172,dLT6*2.18e-3,dLT6*0.0136e-6]"
   ]
  },
  {
   "cell_type": "code",
   "execution_count": null,
   "metadata": {},
   "outputs": [],
   "source": [
    "#MATRIZES LINHA DE TRANSMISSÃO\n",
    "\n",
    "#LT1,LT2, LT3 \n",
    "def Matriz_L1(Linha):\n",
    "    \n",
    "    #Admitância Y do circuito (Y1=Y2)\n",
    "    Y = 1/(1/1j*w*Linha[2])\n",
    "    \n",
    "\n",
    "    \n"
   ]
  },
  {
   "cell_type": "code",
   "execution_count": null,
   "metadata": {},
   "outputs": [],
   "source": []
  }
 ],
 "metadata": {
  "kernelspec": {
   "display_name": "Python 3",
   "language": "python",
   "name": "python3"
  },
  "language_info": {
   "codemirror_mode": {
    "name": "ipython",
    "version": 3
   },
   "file_extension": ".py",
   "mimetype": "text/x-python",
   "name": "python",
   "nbconvert_exporter": "python",
   "pygments_lexer": "ipython3",
   "version": "3.11.9"
  }
 },
 "nbformat": 4,
 "nbformat_minor": 2
}
