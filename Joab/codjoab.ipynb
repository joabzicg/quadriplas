{
 "cells": [
  {
   "cell_type": "code",
   "execution_count": 3,
   "metadata": {},
   "outputs": [],
   "source": [
    "#paramêtros da linha\n",
    "R_LT_1_2_3 = 80 #km\n",
    "R_LT_4_5 = 100 #km\n",
    "R_LT_6 = 90 #km\n",
    "\n",
    "R_LT_1_2_3 = 80 #km\n",
    "R_LT_4_5 = 100 #km\n",
    "R_LT_6 = 90 #km\n",
    "\n",
    "R_LT_1_2_3 = 80 #km\n",
    "R_LT_4_5 = 100 #km\n",
    "R_LT_6 = 90 #km\n",
    "\n",
    "\n"
   ]
  },
  {
   "cell_type": "code",
   "execution_count": null,
   "metadata": {},
   "outputs": [],
   "source": []
  }
 ],
 "metadata": {
  "kernelspec": {
   "display_name": "Python 3",
   "language": "python",
   "name": "python3"
  },
  "language_info": {
   "codemirror_mode": {
    "name": "ipython",
    "version": 3
   },
   "file_extension": ".py",
   "mimetype": "text/x-python",
   "name": "python",
   "nbconvert_exporter": "python",
   "pygments_lexer": "ipython3",
   "version": "3.11.9"
  }
 },
 "nbformat": 4,
 "nbformat_minor": 2
}
