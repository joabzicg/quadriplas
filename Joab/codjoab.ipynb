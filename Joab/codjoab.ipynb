{
 "cells": [
  {
   "cell_type": "code",
   "execution_count": 5,
   "metadata": {},
   "outputs": [],
   "source": [
    "#DADOS\n",
    "import numpy as np\n",
    "import cmath\n",
    "\n",
    "#DISTÂNCIA DAS LINHAS DE TRANSMISSÃO EM KM\n",
    "LT1 = 80\n",
    "LT2 = LT1\n",
    "LT3 = LT1\n",
    "LT4 = 100\n",
    "LT5 = LT4\n",
    "LT6 = 90"
   ]
  },
  {
   "cell_type": "code",
   "execution_count": 6,
   "metadata": {},
   "outputs": [],
   "source": [
    "#paramêtros da LINHA 1 2 e 3 [R, L, C]:\n",
    "LT1_LT2_LT3 = [LT1*0.172,LT1*2.18e-3,LT1*0.0136e-6]\n",
    "LT4_LT5 = [LT4*0.172,LT4*2.18e-3,LT4*0.0136e-6]\n",
    "LT6 = [LT6*0.172,LT6*2.18e-3,LT6*0.0136e-6]"
   ]
  },
  {
   "cell_type": "code",
   "execution_count": null,
   "metadata": {},
   "outputs": [],
   "source": [
    "#MATRIZES LINHA DE TRANSMISSÃO\n",
    "\n",
    "#LT1,LT2, LT3 \n",
    "def Matriz_L1_L2_L3() #Matriz de transmissão para LT1, LT2 e LT3.\n",
    "    \n"
   ]
  },
  {
   "cell_type": "code",
   "execution_count": null,
   "metadata": {},
   "outputs": [],
   "source": []
  }
 ],
 "metadata": {
  "kernelspec": {
   "display_name": "Python 3",
   "language": "python",
   "name": "python3"
  },
  "language_info": {
   "codemirror_mode": {
    "name": "ipython",
    "version": 3
   },
   "file_extension": ".py",
   "mimetype": "text/x-python",
   "name": "python",
   "nbconvert_exporter": "python",
   "pygments_lexer": "ipython3",
   "version": "3.11.9"
  }
 },
 "nbformat": 4,
 "nbformat_minor": 2
}
