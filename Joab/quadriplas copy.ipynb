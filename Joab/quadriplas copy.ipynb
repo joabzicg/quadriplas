{
 "cells": [
  {
   "cell_type": "code",
   "execution_count": 1,
   "metadata": {},
   "outputs": [],
   "source": [
    "import numpy as np #importando as bibliotecas necessárias para o projeto\n",
    "\n",
    "#DISTÂNCIA DAS LINHAS DE TRANSMISSÃO EM KM\n",
    "dLT1_2_3 = 80\n",
    "dLT4_5 = 100\n",
    "dLT6 = 90\n",
    "\n",
    "#PARÂMETROS DO TRANSFORMADOR T = [V1,V2,Rm,Xm]\n",
    "T1_p = [69000, 230000,4320,5050]\n",
    "T2_p= [230000,138000,432000,505000]\n",
    "T3_p = [138000,69000,402000,607000]\n",
    "\n",
    "#IMPEDÂNCIA SÉRIE DE THÉVENIN\n",
    "Zf = 4 + 1j*0.38 #impedância\n",
    "\n",
    "w = 2*np.pi*60 #frequência angular em rad/s\n",
    "\n",
    "#CARGAS EM DERIVAÇÃO\n",
    "Zc1 = 7900 + 1j*w*41\n",
    "Zc2= 1375.55 + 1j*w*7.05\n",
    "Zc3 = 620 + 1j*w*3.4\n",
    "\n",
    "#paramêtros da LINHA '1_2_3', '4_5' e 6 [R, L, C]:\n",
    "LT1_LT2_LT3 = [dLT1_2_3*0.172,dLT1_2_3*2.18e-3,dLT1_2_3*0.0136e-6]\n",
    "LT4_LT5 = [dLT4_5*0.172,dLT4_5*2.18e-3,dLT4_5*0.0136e-6]\n",
    "LT6_ = [dLT6*0.172,dLT6*2.18e-3,dLT6*0.0136e-6]"
   ]
  },
  {
   "cell_type": "code",
   "execution_count": 2,
   "metadata": {},
   "outputs": [],
   "source": [
    "#MATRIZES LINHA DE TRANSMISSÃO\n",
    "def M_Linha(Linha):\n",
    "    #Admitância Y da linha (Y1=Y2)\n",
    "    Y = 1/(1/(1j*w*(Linha[2]/2)))\n",
    "    #Impedância Z da linha\n",
    "    Z = Linha[0]+(1j*w*Linha[1])\n",
    "    #Calculando matriz ABCD\n",
    "\n",
    "    A = 1+(Y*Z)\n",
    "    B = Z\n",
    "    C = (2*Y)+(Y*Y*Z)\n",
    "    D = 1+(Y*Z)\n",
    "    \n",
    "    matrizLinha = np.array(\n",
    "        [\n",
    "            [A,B],\n",
    "            [C,D]\n",
    "        ]\n",
    "    )\n",
    "    return matrizLinha"
   ]
  },
  {
   "cell_type": "code",
   "execution_count": 3,
   "metadata": {},
   "outputs": [],
   "source": [
    "#Função carga em série\n",
    "def Carga (Z):\n",
    "    A = 1\n",
    "    B = Z\n",
    "    C = 0\n",
    "    D = 1\n",
    "\n",
    "    matriz = np.array(\n",
    "        [\n",
    "            [A,B],\n",
    "            [C,D]\n",
    "        ]\n",
    "    )\n",
    "\n",
    "    return matriz\n"
   ]
  },
  {
   "cell_type": "code",
   "execution_count": 4,
   "metadata": {},
   "outputs": [],
   "source": [
    "#Função carga em derivação\n",
    "def CargaDerivada(Z):\n",
    "    A = 1\n",
    "    B = 0\n",
    "    C = 1/Z\n",
    "    D = 1\n",
    "\n",
    "    matriz = np.array(\n",
    "        [\n",
    "            [A,B],\n",
    "            [C,D]\n",
    "        ]\n",
    "    )\n",
    "\n",
    "    return matriz "
   ]
  },
  {
   "cell_type": "code",
   "execution_count": 5,
   "metadata": {},
   "outputs": [],
   "source": [
    "#Função de definição da matriz transmissão do transformador\n",
    "def Transformador(Transfp): \n",
    "    Z1 = 7.6e-3 + 1j*3.8e-3 #Indicando as impedâncias Z1 e Z2 do circuito equivalente do transformador\n",
    "    Z2 = 33.9e-3 + 1j*0.85e-3\n",
    "    \n",
    "    V1 = Transfp[0] #Recebendo os valores de entrada\n",
    "    V2 = Transfp[1] \n",
    "    Rm = Transfp[2] \n",
    "    Xm = Transfp[3] \n",
    "\n",
    "    Y = (Rm + 1j*Xm)/(Rm*1j*Xm) #Indicando a admitância Y do circuito equivalente do transformador\n",
    "\n",
    "    N = V1/V2 #Relação V1/V2\n",
    "\n",
    "    A = (1/N)+(Y*Z1) #Construção da Matriz de transmissão\n",
    "    B = N*(Z1 + Z2 + (Y*Z1*Z2))\n",
    "    C = (1/N)*Y\n",
    "    D = N*(1+(Y*Z2))\n",
    "\n",
    "    matriz = np.array(\n",
    "        [\n",
    "            [A,B],\n",
    "            [C,D]\n",
    "        ]\n",
    "    )\n",
    "    return matriz\n"
   ]
  },
  {
   "cell_type": "code",
   "execution_count": 6,
   "metadata": {},
   "outputs": [],
   "source": [
    "#FUNÇÃO PARA REALIZAR MULTIPLICAÇÃO DE MATRIZES\n",
    "def Associar_Matriz_em_Cascata (matriz1, matriz2):\n",
    "    bloco =  np.dot(matriz1, matriz2)\n",
    "    \n",
    "    return bloco"
   ]
  },
  {
   "cell_type": "code",
   "execution_count": 7,
   "metadata": {},
   "outputs": [],
   "source": [
    "#FUNÇÃO PARA REALIZAR ASSOCIAÇÃO PARALELO DE MATRIZES TRANSMISSÃO\n",
    "def Matriz_Paralelo (matriz1, matriz2):\n",
    "    Aa =  matriz1[0][0]\n",
    "    Ba =  matriz1[0][1]\n",
    "    Ca =  matriz1[1][0]\n",
    "    Da =  matriz1[1][1]\n",
    "    Ab =  matriz2[0][0]\n",
    "    Bb =  matriz2[0][1]\n",
    "    Cb =  matriz2[1][0]\n",
    "    Db =  matriz2[1][1]\n",
    "\n",
    "    A = (Aa*Bb + Ab*Ba)/(Ba + Bb)\n",
    "    B = (Ba*Bb)/(Ba + Bb)\n",
    "    C = Ca + Cb + ((Aa - Ab)*(Db - Da))/(Ba + Bb)\n",
    "    D = (Bb*Da + Ba*Db)/(Ba + Bb)\n",
    "\n",
    "    matriz = np.array(\n",
    "        [\n",
    "            [A,B],\n",
    "            [C,D]\n",
    "        ]\n",
    "    )\n",
    "\n",
    "    return matriz"
   ]
  },
  {
   "cell_type": "code",
   "execution_count": 8,
   "metadata": {},
   "outputs": [],
   "source": [
    "#CRIANDO OBJETOS DOS COMPONENTES DA LINHA\n",
    "Zth = Carga(Zf) #Impedância série do começo da linha\n",
    "T1 = Transformador(T1_p) #Primeiro Transformador\n",
    "T2 = Transformador(T2_p) #Segundo Transformador\n",
    "T3 = Transformador(T3_p) #Terceiro Transformador\n",
    "LT1 = M_Linha(LT1_LT2_LT3) #Primeira Linha\n",
    "LT2 = M_Linha(LT1_LT2_LT3) #Segunda Linha\n",
    "LT3 = M_Linha(LT1_LT2_LT3) #Terceira Linha\n",
    "LT4 = M_Linha(LT4_LT5) #Quarta Linha\n",
    "LT5 = M_Linha(LT4_LT5) #Quinta Linha\n",
    "LT6 = M_Linha(LT6_) #Sexta Linha\n",
    "Z1 = CargaDerivada(Zc1) #Cargas 1, 2 e 3\n",
    "Z2 = CargaDerivada(Zc2)\n",
    "Z3 = CargaDerivada(Zc3)"
   ]
  },
  {
   "cell_type": "code",
   "execution_count": 9,
   "metadata": {},
   "outputs": [],
   "source": [
    "#CRIANDO BLOCOS DA LINHAS POR ASSOCIAÇÃO DE MATRIZES\n",
    "matriz1 = Associar_Matriz_em_Cascata (Zth,T1)\n",
    "paralel_LT1_2 = Matriz_Paralelo (LT1,LT2)\n",
    "paralel_LT1_2_3 = Matriz_Paralelo (paralel_LT1_2,LT3)\n",
    "matriz2 = Associar_Matriz_em_Cascata (matriz1, paralel_LT1_2_3) #Matriz Transmissão até a carga 1\n",
    "matriz3 = Associar_Matriz_em_Cascata (matriz2, Z1)\n",
    "matriz4 = Associar_Matriz_em_Cascata (matriz3, Matriz_Paralelo (LT4 ,LT5))\n",
    "matriz5 = Associar_Matriz_em_Cascata (matriz4, T2) #Matriz Transmissão até a carga 2\n",
    "matriz6 = Associar_Matriz_em_Cascata (matriz5, Z2)\n",
    "matriz7 = Associar_Matriz_em_Cascata (matriz6, LT6)\n",
    "matriz8 = Associar_Matriz_em_Cascata (matriz7, T3) #Matriz Transmissão até a carga 3\n",
    "Fim_daL_Linha = Associar_Matriz_em_Cascata (matriz8, Z3)\n"
   ]
  },
  {
   "cell_type": "code",
   "execution_count": 10,
   "metadata": {},
   "outputs": [
    {
     "name": "stdout",
     "output_type": "stream",
     "text": [
      "Tensão e corrente na carga Z1:\n",
      "Vcarga1 = 20935.96-61.32j V\n",
      "Icarga1 + 0.55-1.08j A\n"
     ]
    }
   ],
   "source": [
    "#Encontrando Vc e IC em Z1\n",
    "print(\"Tensão e corrente na carga Z1:\")\n",
    "Vg = 69e+3\n",
    "Vc = (Vg*Zc1)/(matriz2[0][0]*Zc1 + matriz2[0][1])\n",
    "Ic = Vc/ Zc1\n",
    "\n",
    "print(f\"Vcarga1 = {Vc:.2f} V\")\n",
    "print(f\"Icarga1 + {Ic:.2f} A\")\n"
   ]
  },
  {
   "cell_type": "code",
   "execution_count": 11,
   "metadata": {},
   "outputs": [
    {
     "name": "stdout",
     "output_type": "stream",
     "text": [
      "Tensão e corrente na carga Z2\n",
      "Vcarga2 = 34383.15-958.89j V\n",
      "Icarga2 = 5.00-10.35j A\n"
     ]
    }
   ],
   "source": [
    "#Encontrando Vc e IC em Z2\n",
    "print(\"Tensão e corrente na carga Z2\")\n",
    "Vg = 69e+3\n",
    "Vc = (Vg*Zc2)/(matriz5[0][0]*Zc2 + matriz5[0][1])\n",
    "Ic = Vc/Zc2\n",
    "\n",
    "print(f\"Vcarga2 = {Vc:.2f} V\")\n",
    "print(f\"Icarga2 = {Ic:.2f} A\")\n"
   ]
  },
  {
   "cell_type": "code",
   "execution_count": 12,
   "metadata": {},
   "outputs": [
    {
     "name": "stdout",
     "output_type": "stream",
     "text": [
      "Tensão e corrente na carga Z3:\n",
      "Vcarga3 = 42681.25-6024.07j V\n",
      "Icarga3 = 9.24-28.83j A\n"
     ]
    }
   ],
   "source": [
    "#Encontrando Vc e IC em Z3\n",
    "print(\"Tensão e corrente na carga Z3:\")\n",
    "Vg = 69e+3 #tensão na entrada do quadripolo\n",
    "Vc = (Vg*Zc3)/(matriz8[0][0]*Zc3 + matriz8[0][1]) #Tensão na carga 3 \n",
    "Ic = Vc/Zc3 #Corrente na carga 3\n",
    "\n",
    "print (f\"Vcarga3 = {Vc:.2f} V\") #imprimindo na tela\n",
    "print (f\"Icarga3 = {Ic:.2f} A\")"
   ]
  }
 ],
 "metadata": {
  "kernelspec": {
   "display_name": "Python 3",
   "language": "python",
   "name": "python3"
  },
  "language_info": {
   "codemirror_mode": {
    "name": "ipython",
    "version": 3
   },
   "file_extension": ".py",
   "mimetype": "text/x-python",
   "name": "python",
   "nbconvert_exporter": "python",
   "pygments_lexer": "ipython3",
   "version": "3.11.9"
  }
 },
 "nbformat": 4,
 "nbformat_minor": 2
}
