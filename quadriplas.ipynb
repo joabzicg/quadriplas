{
 "cells": [
  {
   "cell_type": "code",
   "execution_count": 1,
   "metadata": {},
   "outputs": [
    {
     "name": "stdout",
     "output_type": "stream",
     "text": [
      "Matriz original:\n",
      "[[1 2]\n",
      " [3 4]]\n",
      "\n",
      "Matriz inversa:\n",
      "[[-2.   1. ]\n",
      " [ 1.5 -0.5]]\n"
     ]
    }
   ],
   "source": [
    "import numpy as np\n",
    "\n",
    "# Defina sua matriz\n",
    "matriz = np.array([[1, 2],\n",
    "                   [3, 4]])\n",
    "\n",
    "# Calcule a matriz inversa\n",
    "matriz_inversa = np.linalg.inv(matriz)\n",
    "\n",
    "print(\"Matriz original:\")\n",
    "print(matriz)\n",
    "\n",
    "print(\"\\nMatriz inversa:\")\n",
    "print(matriz_inversa)"
   ]
  },
  {
   "cell_type": "code",
   "execution_count": null,
   "metadata": {},
   "outputs": [],
   "source": [
    "#CODIGO 2 "
   ]
  }
 ],
 "metadata": {
  "kernelspec": {
   "display_name": "Python 3",
   "language": "python",
   "name": "python3"
  },
  "language_info": {
   "codemirror_mode": {
    "name": "ipython",
    "version": 3
   },
   "file_extension": ".py",
   "mimetype": "text/x-python",
   "name": "python",
   "nbconvert_exporter": "python",
   "pygments_lexer": "ipython3",
   "version": "3.11.9"
  }
 },
 "nbformat": 4,
 "nbformat_minor": 2
}
