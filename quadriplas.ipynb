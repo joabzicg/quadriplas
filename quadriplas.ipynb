{
 "cells": [
  {
   "cell_type": "code",
   "execution_count": 5,
   "metadata": {},
   "outputs": [],
   "source": [
    "import numpy as np\n",
    "import cmath\n",
    "\n",
    "#DISTÂNCIA DAS LINHAS DE TRANSMISSÃO EM KM\n",
    "dLT1_2_3 = 80\n",
    "dLT4_5 = 100\n",
    "dLT6 = 90\n",
    "\n",
    "#PARÂMETROS DO TRANSFORMADOR T = [V1,V2,Rm,Xm]\n",
    "T1_p = [69000, 230000,4320,5050]\n",
    "T2_p= [230000,138000,3432000,505000]\n",
    "T3_p = [1000,69000,402000,607000]\n",
    "\n",
    "#IMPEDÂNCIA SÉRIE DE THÉVENIN\n",
    "Zf = 4 + 1j*X0.38 #impedância\n",
    "\n",
    "w = 2*np.pi*60 #frequência em rad/s\n",
    "\n",
    "#CARGAS EM DERIVAÇÃO\n",
    "Zc1 = 7900 + 1j*w*41\n",
    "Zc2= 1375.55 + 1j*w*7.05\n",
    "Zc3 = 620 + 1j*w*3.4\n",
    "\n",
    "#paramêtros da LINHA 1 2 e 3 [R, L, C]:\n",
    "LT1_LT2_LT3 = [dLT1_2_3*0.172,dLT1_2_3*2.18e-3,dLT1_2_3*0.0136e-6]\n",
    "LT4_LT5 = [dLT4_5*0.172,dLT4_5*2.18e-3,dLT4_5*0.0136e-6]\n",
    "LT6 = [dLT6*0.172,dLT6*2.18e-3,dLT6*0.0136e-6]\n",
    "#a"
   ]
  },
  {
   "cell_type": "code",
   "execution_count": null,
   "metadata": {},
   "outputs": [],
   "source": [
    "#FUNÇÃO PARA REALIZAR MULTIPLICAÇÃO DE MATRIZES\n",
    "def Associar_Matriz_em_Cascata (matriz1, matriz2):\n",
    "    bloco =  np.dot(matriz1, matriz2)\n",
    "    \n",
    "    return bloco"
   ]
  },
  {
   "cell_type": "code",
   "execution_count": null,
   "metadata": {},
   "outputs": [],
   "source": [
    "#CRIANDO OBJETOS DOS COMPONENTES DA LINHA\n",
    "Zth = Carga(Zf)\n",
    "T1 = Transformador(T1_P)\n",
    "T2 = Transformador(T2_p)\n",
    "T3 = Transformador(T3_p)\n",
    "LT1 = M_Linha(LT1_LT2_LT3)\n",
    "LT2 = M_Linha(LT1_LT2_LT3)\n",
    "LT3 = M_Linha(LT1_LT2_LT3)\n",
    "LT4 = M_Linha(LT4_LT5)\n",
    "LT5 = M_Linha(LT4_LT5)\n",
    "LT6 = M_Linha(LT6)\n",
    "Z1 = CargaDerivada(Zc1)\n",
    "Z2 = CargaDerivada(Zc2)\n",
    "Z3 = CargaDerivada(Zc3)\n",
    "\n",
    "#CRIANDO BLOCOS DA LINHAS POR ASSOCIAÇÃO DE MATRIZES\n",
    "\n",
    "matriz1 = Associar_Matriz_em_Cascata (Zth,T1)\n",
    "#matriz2 = Associar_Matriz_em_Cascata (matriz1, YARA's FUNCTION(LT1,LT2,LT3))\n",
    "matriz3 = Associar_Matriz_em_Cascata (matriz2, Z1)\n",
    "#matriz4 = Associar_Matriz_em_Cascata (matriz3, YARA's FUNCTION(LT4,LT5))\n",
    "matriz5 = Associar_Matriz_em_Cascata (matriz4, T2)\n",
    "matriz6 = Associar_Matriz_em_Cascata (matriz5, Z2)\n",
    "matriz7 = Associar_Matriz_em_Cascata (matriz6, LT6)\n",
    "matriz8 = Associar_Matriz_em_Cascata (matriz7, T3)\n",
    "Fim_daL_Linha = Associar_Matriz_em_Cascata (matriz8, Z3)"
   ]
  }
 ],
 "metadata": {
  "kernelspec": {
   "display_name": "Python 3",
   "language": "python",
   "name": "python3"
  },
  "language_info": {
   "codemirror_mode": {
    "name": "ipython",
    "version": 3
   },
   "file_extension": ".py",
   "mimetype": "text/x-python",
   "name": "python",
   "nbconvert_exporter": "python",
   "pygments_lexer": "ipython3",
   "version": "3.12.3"
  }
 },
 "nbformat": 4,
 "nbformat_minor": 2
}
