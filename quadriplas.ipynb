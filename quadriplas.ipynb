{
 "cells": [
  {
   "cell_type": "code",
   "execution_count": null,
   "metadata": {},
   "outputs": [],
   "source": [
    "import numpy as np\n",
    "\n",
    "# Defina sua matriz\n",
    "matriz = np.array([[1, 2],\n",
    "                   [3, 4]])\n",
    "\n",
    "# Calcule a matriz inversa\n",
    "matriz_inversa = np.linalg.inv(matriz)\n",
    "\n",
    "print(\"Matriz original:\")\n",
    "print(matriz)\n",
    "\n",
    "print(\"\\nMatriz inversa:\")\n",
    "print(matriz_inversa)"
   ]
  },
  {
   "cell_type": "code",
   "execution_count": null,
   "metadata": {},
   "outputs": [],
   "source": [
    "#CODIGO 2 "
   ]
  }
 ],
 "metadata": {
  "language_info": {
   "name": "python"
  }
 },
 "nbformat": 4,
 "nbformat_minor": 2
}
