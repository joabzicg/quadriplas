{
 "cells": [
  {
   "cell_type": "code",
   "execution_count": 5,
   "metadata": {},
   "outputs": [],
   "source": [
    "import numpy as np\n",
    "import cmath\n",
    "\n",
    "#DISTÂNCIA DAS LINHAS DE TRANSMISSÃO EM KM\n",
    "\n",
    "dLT1_2_3 = 80\n",
    "dLT4_5 = 100\n",
    "dLT6 = 90\n",
    "\n",
    "#PARÂMETROS DO TRANSFORMADOR T = [V1,V2,Rm,Xm]\n",
    "\n",
    "T1_P = [69000, 230000,4320,5050]\n",
    "T2_p = [230000,138000,3432000,505000]\n",
    "T3_p = [1000,69000,402000,607000]\n",
    "\n",
    "#IMPEDÂNCIA SÉRIE DE THÉVENIN\n",
    "\n",
    "Zf = 4 + 1j*X0.38 #impedância\n",
    "w = 2*np.pi*60 #frequência em rad/s\n",
    "\n",
    "#CARGAS EM DERIVAÇÃO\n",
    "\n",
    "Zc1 = 7900 + 1j*w*41\n",
    "Zc2= 1375.55 + 1j*w*7.05\n",
    "Zc3 = 620 + 1j*w*3.4"
   ]
  },
  {
   "cell_type": "code",
   "execution_count": null,
   "metadata": {},
   "outputs": [],
   "source": [
    "#função carga\n",
    "\n",
    "def Carga (Z):\n",
    "    A = 1\n",
    "    B = Z\n",
    "    C = 0\n",
    "    D = 1\n",
    "\n",
    "    matriz = np.array(\n",
    "        [\n",
    "            [A,B],\n",
    "            [C,D]\n",
    "        ]\n",
    "    )\n",
    "\n",
    "    return matriz"
   ]
  },
  {
   "cell_type": "code",
   "execution_count": null,
   "metadata": {},
   "outputs": [],
   "source": [
    "#matriz carga derivada\n",
    "\n",
    "def CargaDerivada(Z):\n",
    "    A = 1\n",
    "    B = 0\n",
    "    C = 1/Z\n",
    "    D = 1\n",
    "\n",
    "    matriz = np.array(\n",
    "        [\n",
    "            [A,B],\n",
    "            [C,D]\n",
    "        ]\n",
    "    )\n",
    "\n",
    "    return matriz "
   ]
  },
  {
   "cell_type": "code",
   "execution_count": null,
   "metadata": {},
   "outputs": [],
   "source": [
    "def Transformador(Transfp): #Função de definição da matriz transmissão do transformador\n",
    "    Z1 = 7.6e-3 + 1j*3.8e-3 #Indicando as impedâncias Z1 e Z2 do circuito equivalente do transformador\n",
    "    Z2 = 33.9e-3 + 1j*0.85e-3\n",
    "    \n",
    "    V1 = Transfp[0] #Recebendo os valores de entrada\n",
    "    V2 = Transfp[1] \n",
    "    Rm = Transfp[2] \n",
    "    Xm = Transfp[3] \n",
    "\n",
    "    Y = (Rm + 1j*Xm)/(Rm*1j*Xm) #Indicando a admitância Y do circuito equivalente do transformador\n",
    "\n",
    "    N = V1/V2 #Relação V1/V2\n",
    "\n",
    "    A = (1/N)+(Y*Z1) #Construção da Matriz de transmissão\n",
    "    B = N*(Z1 + Z2 + (Y*Z1*Z2))\n",
    "    C = (1/N)*Y\n",
    "    D = N*(1+(Y*Z2))\n",
    "\n",
    "    matriz = np.array(\n",
    "        [\n",
    "            [A,B],\n",
    "            [C,D]\n",
    "        ]\n",
    "    )\n",
    "    return matriz"
   ]
  },
  {
   "cell_type": "code",
   "execution_count": null,
   "metadata": {},
   "outputs": [],
   "source": [
    "#paramêtros da linha\n",
    "\n",
    "R_LT_1_2_3 = LT1*0.172 #Ohms\n",
    "R_LT_4_5 = LT4*0.172 #Ohms\n",
    "R_LT_6 = LT6*0.172 #Ohms\n",
    "\n",
    "L_LT_1_2_3 = LT1*2.18e-3 #Henry\n",
    "L_LT_4_5 = LT4*2.18e-3 #Henry\n",
    "L_LT_6 = LT6*2.18e-3 #Henry\n",
    "\n",
    "C_LT_1_2_3 = LT1*0.0136e-6 #Farad\n",
    "C_LT_4_5 = LT4*0.0136e-6 #Farad\n",
    "C_LT_6 = LT6*0.0136e-6 #Farad"
   ]
  },
  {
   "cell_type": "code",
   "execution_count": null,
   "metadata": {},
   "outputs": [],
   "source": [
    "#FUNÇÃO PARA REALIZAR MULTIPLICAÇÃO DE MATRIZES\n",
    "\n",
    "def Associar_Matriz_em_Cascata (matriz1, matriz2):\n",
    "    bloco =  np.dot(matriz1, matriz2)\n",
    "    \n",
    "    return bloco"
   ]
  },
  {
   "cell_type": "code",
   "execution_count": 6,
   "metadata": {},
   "outputs": [
    {
     "ename": "NameError",
     "evalue": "name 'Carga' is not defined",
     "output_type": "error",
     "traceback": [
      "\u001b[1;31m---------------------------------------------------------------------------\u001b[0m",
      "\u001b[1;31mNameError\u001b[0m                                 Traceback (most recent call last)",
      "Cell \u001b[1;32mIn[6], line 1\u001b[0m\n\u001b[1;32m----> 1\u001b[0m Zth \u001b[38;5;241m=\u001b[39m \u001b[43mCarga\u001b[49m(Zf) \n",
      "\u001b[1;31mNameError\u001b[0m: name 'Carga' is not defined"
     ]
    }
   ],
   "source": [
    "#CRIANDO OBJETOS DOS COMPONENTES DA LINHA\n",
    "\n",
    "Zth = Carga(Zf)\n",
    "T1 = Transformador(T1_P)\n",
    "T2 = Transformador(T2_p)\n",
    "T3 = Transformador(T3_p)\n",
    "#LT1 = JOAB's FUNCTION(dLT1_2_3)\n",
    "#LT2 = JOAB's FUNCTION(dLT1_2_3)\n",
    "#LT3 = JOAB FUNCTION(dLT1_2_3)\n",
    "#LT4 = JOAB's FUNCTION(dLT4_5)\n",
    "#LT5 = JOAB's FUNCTION(dLT4_5)\n",
    "Z1 = CargaDerivada(Zc1)\n",
    "Z2 = CargaDerivada(Zc2)\n",
    "Z3 = CargaDerivada(Zc3)\n",
    "\n",
    "#CRIANDO BLOCOS DA LINHAS POR ASSOCIAÇÃO DE MATRIZES\n",
    "\n",
    "matriz1 = Associar_Matriz_em_Cascata (Zth,T1)\n",
    "#matriz2 = Associar_Matriz_em_Cascata (matriz1, YARA's FUNCTION(LT1,LT2,LT3))\n",
    "matriz3 = Associar_Matriz_em_Cascata (matriz2, Z1)\n",
    "#matriz4 = Associar_Matriz_em_Cascata (matriz3, YARA's FUNCTION(LT4,LT5))\n",
    "matriz5 = Associar_Matriz_em_Cascata (matriz4, T2)\n",
    "matriz6 = Associar_Matriz_em_Cascata (matriz5, Z2)\n",
    "matriz7 = Associar_Matriz_em_Cascata (matriz6, LT6)\n",
    "matriz8 = Associar_Matriz_em_Cascata (matriz7, T3)\n",
    "Fim_daL_Linha = Associar_Matriz_em_Cascata (matriz8, Z3)\n"
   ]
  }
 ],
 "metadata": {
  "kernelspec": {
   "display_name": "Python 3",
   "language": "python",
   "name": "python3"
  },
  "language_info": {
   "codemirror_mode": {
    "name": "ipython",
    "version": 3
   },
   "file_extension": ".py",
   "mimetype": "text/x-python",
   "name": "python",
   "nbconvert_exporter": "python",
   "pygments_lexer": "ipython3",
   "version": "3.12.3"
  }
 },
 "nbformat": 4,
 "nbformat_minor": 2
}
