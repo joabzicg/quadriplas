{
 "cells": [
  {
   "cell_type": "code",
   "execution_count": 2,
   "metadata": {},
   "outputs": [],
   "source": [
    "import numpy as np\n",
    "import cmath\n",
    "\n",
    "#DISTÂNCIA DAS LINHAS DE TRANSMISSÃO EM KM\n",
    "dLT1_2_3 = 80\n",
    "dLT4_5 = 100\n",
    "dLT6 = 90\n",
    "\n",
    "#PARÂMETROS DO TRANSFORMADOR T = [V1,V2,Rm,Xm]\n",
    "T1_p = [69000, 230000,4320,5050]\n",
    "T2_p= [230000,138000,3432000,505000]\n",
    "T3_p = [1000,69000,402000,607000]\n",
    "\n",
    "#IMPEDÂNCIA SÉRIE DE THÉVENIN\n",
    "Zf = 4 + 1j*0.38 #impedância\n",
    "\n",
    "w = 2*np.pi*60 #frequência em rad/s\n",
    "\n",
    "#CARGAS EM DERIVAÇÃO\n",
    "Zc1 = 7900 + 1j*w*41\n",
    "Zc2= 1375.55 + 1j*w*7.05\n",
    "Zc3 = 620 + 1j*w*3.4\n",
    "\n",
    "#paramêtros da LINHA 1 2 3, 4,5 e 6 [R, L, C]:\n",
    "LT1_LT2_LT3 = [dLT1_2_3*0.172,dLT1_2_3*2.18e-3,dLT1_2_3*0.0136e-6]\n",
    "LT4_LT5 = [dLT4_5*0.172,dLT4_5*2.18e-3,dLT4_5*0.0136e-6]\n",
    "LT6 = [dLT6*0.172,dLT6*2.18e-3,dLT6*0.0136e-6]\n",
    "\n",
    "\n",
    "#Frequência angular\n",
    "w = 2*np.pi*60 "
   ]
  },
  {
   "cell_type": "code",
   "execution_count": 3,
   "metadata": {},
   "outputs": [],
   "source": [
    "#FUNÇÃO PARA REALIZAR MULTIPLICAÇÃO DE MATRIZES\n",
    "def Associar_Matriz_em_Cascata (matriz1, matriz2):\n",
    "    bloco =  np.dot(matriz1, matriz2)\n",
    "    \n",
    "    return bloco"
   ]
  },
  {
   "cell_type": "code",
   "execution_count": 4,
   "metadata": {},
   "outputs": [
    {
     "ename": "NameError",
     "evalue": "name 'Carga' is not defined",
     "output_type": "error",
     "traceback": [
      "\u001b[1;31m---------------------------------------------------------------------------\u001b[0m",
      "\u001b[1;31mNameError\u001b[0m                                 Traceback (most recent call last)",
      "Cell \u001b[1;32mIn[4], line 2\u001b[0m\n\u001b[0;32m      1\u001b[0m \u001b[38;5;66;03m#CRIANDO OBJETOS DOS COMPONENTES DA LINHA\u001b[39;00m\n\u001b[1;32m----> 2\u001b[0m Zth \u001b[38;5;241m=\u001b[39m \u001b[43mCarga\u001b[49m(Zf) \u001b[38;5;66;03m#Impedância série do começo da linha\u001b[39;00m\n\u001b[0;32m      3\u001b[0m T1 \u001b[38;5;241m=\u001b[39m Transformador(T1_P)\n\u001b[0;32m      4\u001b[0m T2 \u001b[38;5;241m=\u001b[39m Transformador(T2_p)\n",
      "\u001b[1;31mNameError\u001b[0m: name 'Carga' is not defined"
     ]
    }
   ],
   "source": [
    "#CRIANDO OBJETOS DOS COMPONENTES DA LINHA\n",
    "Zth = Carga(Zf) #Impedância série do começo da linha\n",
    "T1 = Transformador(T1_P)\n",
    "T2 = Transformador(T2_p)\n",
    "T3 = Transformador(T3_p)\n",
    "LT1 = M_Linha(LT1_LT2_LT3)\n",
    "LT2 = M_Linha(LT1_LT2_LT3)\n",
    "LT3 = M_Linha(LT1_LT2_LT3)\n",
    "LT4 = M_Linha(LT4_LT5)\n",
    "LT5 = M_Linha(LT4_LT5)\n",
    "LT6 = M_Linha(LT6)\n",
    "Z1 = CargaDerivada(Zc1)\n",
    "Z2 = CargaDerivada(Zc2)\n",
    "Z3 = CargaDerivada(Zc3)\n",
    "\n",
    "#CRIANDO BLOCOS DA LINHAS POR ASSOCIAÇÃO DE MATRIZES\n",
    "\n",
    "matriz1 = Associar_Matriz_em_Cascata (Zth,T1)\n",
    "paralel_LT1_2 = Matriz_Paralelo (LT1,LT2)\n",
    "paralel_LT1_2_3 = Matriz_Paralelo (paralel_LT1_2,LT2)\n",
    "matriz2 = Associar_Matriz_em_Cascata (matriz1, paralel_LT1_2_3)\n",
    "matriz3 = Associar_Matriz_em_Cascata (matriz2, Z1)\n",
    "matriz4 = Associar_Matriz_em_Cascata (matriz3, Matriz_Paralelo (LT4 ,LT5))\n",
    "matriz5 = Associar_Matriz_em_Cascata (matriz4, T2)\n",
    "matriz6 = Associar_Matriz_em_Cascata (matriz5, Z2)\n",
    "matriz7 = Associar_Matriz_em_Cascata (matriz6, LT6)\n",
    "matriz8 = Associar_Matriz_em_Cascata (matriz7, T3)\n",
    "Fim_daL_Linha = Associar_Matriz_em_Cascata (matriz8, Z3)"
   ]
  }
 ],
 "metadata": {
  "kernelspec": {
   "display_name": "Python 3",
   "language": "python",
   "name": "python3"
  },
  "language_info": {
   "codemirror_mode": {
    "name": "ipython",
    "version": 3
   },
   "file_extension": ".py",
   "mimetype": "text/x-python",
   "name": "python",
   "nbconvert_exporter": "python",
   "pygments_lexer": "ipython3",
   "version": "3.11.8"
  }
 },
 "nbformat": 4,
 "nbformat_minor": 2
}
