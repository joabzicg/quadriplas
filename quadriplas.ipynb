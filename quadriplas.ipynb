{
 "cells": [
  {
   "cell_type": "code",
   "execution_count": 5,
   "metadata": {},
   "outputs": [],
   "source": [
    "import numpy as np\n",
    "import cmath\n",
    "\n",
    "#DISTÂNCIA DAS LINHAS DE TRANSMISSÃO EM KM\n",
    "dLT1_2_3 = 80\n",
    "dLT4_5 = 100\n",
    "dLT6 = 90\n",
    "\n",
    "#PARÂMETROS DO TRANSFORMADOR T = [V1,V2,Rm,Xm]\n",
    "T1 = [69000, 230000,4320,5050]\n",
    "T2 = [230000,138000,3432000,505000]\n",
    "T3 = [1000,69000,402000,607000]\n",
    "\n",
    "#IMPEDÂNCIA SÉRIE DE THÉVENIN\n",
    "Zf = 4 + 1j*X0.38 #impedância\n",
    "\n",
    "w = 2*np.pi*60 #frequência em rad/s\n",
    "\n",
    "#CARGAS EM DERIVAÇÃO\n",
    "Z1 = 7900 + 1j*w*41\n",
    "Z2= 1375.55 + 1j*w*7.05\n",
    "Z3 = 620 + 1j*w*3.4\n",
    "\n",
    "#paramêtros da LINHA 1 2 e 3 [R, L, C]:\n",
    "LT1_LT2_LT3 = [dLT1_2_3*0.172,dLT1_2_3*2.18e-3,dLT1_2_3*0.0136e-6]\n",
    "LT4_LT5 = [dLT4_5*0.172,dLT4_5*2.18e-3,dLT4_5*0.0136e-6]\n",
    "LT6 = [dLT6*0.172,dLT6*2.18e-3,dLT6*0.0136e-6]\n",
    "#a"
   ]
  },
  {
   "cell_type": "code",
   "execution_count": null,
   "metadata": {},
   "outputs": [],
   "source": [
    "#FUNÇÃO PARA REALIZAR MULTIPLICAÇÃO DE MATRIZES\n",
    "def Associar_Matriz_em_Cascata (matriz1, matriz2):\n",
    "    bloco =  np.dot(matriz1, matriz2)\n",
    "    \n",
    "    return bloco"
   ]
  }
 ],
 "metadata": {
  "kernelspec": {
   "display_name": "Python 3",
   "language": "python",
   "name": "python3"
  },
  "language_info": {
   "codemirror_mode": {
    "name": "ipython",
    "version": 3
   },
   "file_extension": ".py",
   "mimetype": "text/x-python",
   "name": "python",
   "nbconvert_exporter": "python",
   "pygments_lexer": "ipython3",
   "version": "3.12.3"
  }
 },
 "nbformat": 4,
 "nbformat_minor": 2
}
