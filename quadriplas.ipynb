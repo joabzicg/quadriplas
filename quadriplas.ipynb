{
 "cells": [
  {
   "cell_type": "code",
   "execution_count": 3,
   "metadata": {},
   "outputs": [],
   "source": [
    "import numpy as np\n",
    "import cmath\n",
    "\n",
    "#DISTÂNCIA DAS LINHAS DE TRANSMISSÃO EM KM\n",
    "LT1 = 80\n",
    "LT2 = LT1\n",
    "LT3 = LT1\n",
    "LT4 = 100\n",
    "LT5 = LT4\n",
    "LT6 = 90\n",
    "\n",
    "#PARÂMETROS DO TRANSFORMADOR T = [V1,V2,Rm,Xm]\n",
    "T1 = [7.6E-3,3.8E-3]\n",
    "T2 = [33.9E-3,0.85E-3]\n",
    "\n",
    "#IMPEDâNCIA SÉRIE DE THÉVENIN\n",
    "Rf = 4\n",
    "Xf = 0.38\n",
    "Zf = Rf + 1j*Xf #ipedância \n",
    "\n",
    "w = 2*np.pi*60 #frequência em rad/s\n",
    "\n"
   ]
  },
  {
   "cell_type": "code",
   "execution_count": null,
   "metadata": {},
   "outputs": [],
   "source": [
    "#CODIGO 2 "
   ]
  }
 ],
 "metadata": {
  "kernelspec": {
   "display_name": "Python 3",
   "language": "python",
   "name": "python3"
  },
  "language_info": {
   "codemirror_mode": {
    "name": "ipython",
    "version": 3
   },
   "file_extension": ".py",
   "mimetype": "text/x-python",
   "name": "python",
   "nbconvert_exporter": "python",
   "pygments_lexer": "ipython3",
   "version": "3.12.3"
  }
 },
 "nbformat": 4,
 "nbformat_minor": 2
}
