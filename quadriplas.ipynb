{
 "cells": [
  {
   "cell_type": "code",
   "execution_count": 5,
   "metadata": {},
   "outputs": [],
   "source": [
    "import numpy as np\n",
    "import cmath\n",
    "\n",
    "#DISTÂNCIA DAS LINHAS DE TRANSMISSÃO EM KM\n",
    "LT1 = 80\n",
    "LT2 = LT1\n",
    "LT3 = LT1\n",
    "LT4 = 100\n",
    "LT5 = LT4\n",
    "LT6 = 90\n",
    "\n",
    "#PARÂMETROS DO TRANSFORMADOR T = [V1,V2,Rm,Xm]\n",
    "T1 = [69000, 230000,4320,5050]\n",
    "T2 = [230000,138000,3432000,505000]\n",
    "T3 = [1000,69000,402000,607000]\n",
    "\n",
    "#IMPEDÂNCIA SÉRIE DE THÉVENIN\n",
    "Rf = 4\n",
    "Xf = 0.38\n",
    "Zf = Rf + 1j*Xf #impedância\n",
    "\n",
    "w = 2*np.pi*60 #frequência em rad/s\n",
    "\n",
    "#CARGAS EM DERIVAÇÃO\n",
    "Z1 = 7900 + 1j*w*41\n",
    "Z2= 1375.55 + 1j*w*7.05\n",
    "Z3 = 620 + 1j*w*3.4"
   ]
  },
  {
   "cell_type": "code",
   "execution_count": null,
   "metadata": {},
   "outputs": [],
   "source": [
    "#paramêtros da linha\n",
    "R_LT_1_2_3 = LT1*0.172 #Ohms\n",
    "R_LT_4_5 = LT4*0.172 #Ohms\n",
    "R_LT_6 = LT6*0.172 #Ohms\n",
    "\n",
    "L_LT_1_2_3 = LT1*2.18e-3 #Henry\n",
    "L_LT_4_5 = LT4*2.18e-3 #Henry\n",
    "L_LT_6 = LT6*2.18e-3 #Henry\n",
    "\n",
    "C_LT_1_2_3 = LT1*0.0136e-6 #Farad\n",
    "C_LT_4_5 = LT4*0.0136e-6 #Farad\n",
    "C_LT_6 = LT6*0.0136e-6 #Farad"
   ]
  }
 ],
 "metadata": {
  "kernelspec": {
   "display_name": "Python 3",
   "language": "python",
   "name": "python3"
  },
  "language_info": {
   "codemirror_mode": {
    "name": "ipython",
    "version": 3
   },
   "file_extension": ".py",
   "mimetype": "text/x-python",
   "name": "python",
   "nbconvert_exporter": "python",
   "pygments_lexer": "ipython3",
   "version": "3.12.3"
  }
 },
 "nbformat": 4,
 "nbformat_minor": 2
}
